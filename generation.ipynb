{
 "cells": [
  {
   "cell_type": "code",
   "execution_count": 1,
   "metadata": {
    "colab": {
     "base_uri": "https://localhost:8080/"
    },
    "id": "bn7uHNQCH5WM",
    "outputId": "60c77595-5c9f-463f-e867-ca278452693d"
   },
   "outputs": [],
   "source": [
    "#! pip install mimesis"
   ]
  },
  {
   "cell_type": "code",
   "execution_count": 2,
   "metadata": {
    "id": "yGl_ho_VkGTG"
   },
   "outputs": [],
   "source": [
    "# издательства\n",
    "\n",
    "publishers = ['Гуманитарный издательский центр «Владос»',\n",
    "              'Издательская группа «АСТ»',\n",
    "              'Издательская группа «URSS.ru»',\n",
    "              'Издательская группа «ГРАНД-ФАИР»',\n",
    "              'Издательский Дом «Интеллект»',\n",
    "              'Издательский Дом «ИНФРА-М»',\n",
    "              'Издательский дом «ОНИКС»',\n",
    "              'Издательский дом «Питер»',\n",
    "              'Издательский торговый дом «КноРус»',\n",
    "              'Издательский центр «Академия»',\n",
    "              'Издательство «Айрис-пресс»',\n",
    "              'Издательство «Академический Проект»',\n",
    "              'Издательство «Весь Мир»',\n",
    "              'Издательство «Вече»',\n",
    "              'Издательство «Высшая школа»',\n",
    "              'Издательство «Дрофа»',\n",
    "              'Издательство «КолосС»',\n",
    "              'Издательство «Лань»',\n",
    "              'Издательство «Омега-Л»',\n",
    "              'Издательство «Просвещение»',\n",
    "              'Издательство «Проспект»',\n",
    "              'Издательство «Профессия»',\n",
    "              'Издательство «Флинта»',\n",
    "              'Издательство «Эксмо»',\n",
    "              'Торговая фирма «Академкнига» РАН',\n",
    "              'Торговое предприятие «Вузовская книга»',\n",
    "              'Библиотечное дело',\n",
    "              'Издательство РНБ',\n",
    "              'Издательство ФГУ «РГБ» «Пашков дом»',\n",
    "              'Редакционно-издательский отдел ГПНТБ СО РАН',\n",
    "              'Компьютерная литература. Информационные технологии',\n",
    "              'Издательство «БХВ-Петербург»',\n",
    "              'Издательство «ЭКОМ»',\n",
    "              'Правоведение',\n",
    "              'Издательский дом «ФБК-ПРЕСС»',\n",
    "              'Издательский дом Р. Асланова «Юридический центр»',\n",
    "              'Издательско-книготорговое объединение «ЮРАЙТ»',\n",
    "              'Издательство «Волтерс Клувер»',\n",
    "              'Издательство «СТАТУТ»',\n",
    "              'Издательство «Юрлитинформ»',\n",
    "              'Юридическое издательство «Норма»',\n",
    "              'Религия',\n",
    "              'Издательство Православного Свято - Тихоновского Гуманитарного Университета',\n",
    "              'Физико-математические науки',\n",
    "              'Издательство «ФИЗМАТЛИТ»',\n",
    "              'Художественная литература. Литературоведение',\n",
    "              'Издательство «Амфора»',\n",
    "              'Издательство «Новое литературное обозрение»',\n",
    "              'Издательская группа «Дело и сервис»',\n",
    "              'Издательство «Альпина Паблишер»',\n",
    "              'Издательство «Современная экономика и право»',\n",
    "              'Издательство «Финансы и статистика»',\n",
    "              'Издательство «Экономика»'\n",
    "              ]"
   ]
  },
  {
   "cell_type": "code",
   "execution_count": 3,
   "metadata": {
    "colab": {
     "base_uri": "https://localhost:8080/"
    },
    "id": "qmE01i_9m_di",
    "outputId": "f4bf328f-6cbf-48eb-9a4e-e7b3d6f4a3ab"
   },
   "outputs": [
    {
     "data": {
      "text/plain": [
       "['root/aaa/aaa/a.jpg',\n",
       " 'root/aaa/aaa/b.png',\n",
       " 'root/aaa/aaa/c.jpg',\n",
       " 'root/aaa/aaa/d.png',\n",
       " 'root/aaa/aaa/e.png',\n",
       " 'root/aaa/aaa/f.jpg',\n",
       " 'root/aaa/aaa/g.jpg',\n",
       " 'root/aaa/aaa/h.png',\n",
       " 'root/aaa/aaa/i.jpg',\n",
       " 'root/aaa/aaa/j.png']"
      ]
     },
     "execution_count": 3,
     "metadata": {},
     "output_type": "execute_result"
    }
   ],
   "source": [
    "# путь в файловой системе до картинки (вида root/aaa/aaa/a.png)\n",
    "# число различных путей n\n",
    "\n",
    "n = 300\n",
    "\n",
    "# sourses root/aaa/aaa/a.png\n",
    "import random\n",
    "\n",
    "sources = []\n",
    "root = \"root/\"\n",
    "extentions = [\".jpg\", \".png\"]\n",
    "def to_path(i):\n",
    "  current = i\n",
    "  path = \"\"\n",
    "  cnt = 0;\n",
    "  while current != 0:\n",
    "    path += chr(current % (ord('z') - ord('a') + 1) + ord('a'))\n",
    "    current //= (ord('z') - ord('a') + 1)\n",
    "    cnt += 1\n",
    "    if cnt == 1:\n",
    "      path += '/'\n",
    "    elif (cnt - 1) % 3  == 0:\n",
    "      path += '/'\n",
    "  while cnt < 7:\n",
    "    path += 'a'\n",
    "    cnt += 1\n",
    "    if (cnt - 1) % 3  == 0:\n",
    "      path += '/'\n",
    "  return path[::-1]\n",
    "\n",
    "for i in range(n):\n",
    "  sources += [root[:-1] + to_path(i) + extentions[random.randint(0, len(extentions) - 1)]]\n",
    "sources[:min(n, 10)]"
   ]
  },
  {
   "cell_type": "code",
   "execution_count": 4,
   "metadata": {
    "id": "UMQWwMIjpdhT"
   },
   "outputs": [],
   "source": [
    "# жанры (удалить описание для жанра из схемы базы)\n",
    "\n",
    "genres = ['Бизнес-книги',\n",
    "          'Классическая литература',\n",
    "          'Зарубежная литература',\n",
    "          'Русская литература',\n",
    "          'Детские книги',\n",
    "          'Детективы',\n",
    "          'Фэнтези',\n",
    "          'Фантастика',\n",
    "          'Современная проза',\n",
    "          'Приключения',\n",
    "          'Ужасы, мистика',\n",
    "          'Публицистическая литература',\n",
    "          'Книги для подростков',\n",
    "          'Любовные романы',\n",
    "          'Боевики',\n",
    "          'Книги по психологии',\n",
    "          'Повести, рассказы',\n",
    "          'Поэзия и драматургия',\n",
    "          'Научная литература',\n",
    "          'Хобби и досуг',\n",
    "          'Графические романы',\n",
    "          'Культура и искусство',\n",
    "          'Юмор',\n",
    "          'Религия',\n",
    "          'Словари и справочники',\n",
    "          'Красота и здоровье',\n",
    "          'Иностранные языки',\n",
    "          'Компьютерная литература',\n",
    "          'Учебная литература',\n",
    "          'История',\n",
    "          'Реализм',\n",
    "          ]"
   ]
  },
  {
   "cell_type": "code",
   "execution_count": 5,
   "metadata": {
    "colab": {
     "base_uri": "https://localhost:8080/"
    },
    "id": "KN0n5o4xUq7f",
    "outputId": "f12c9354-6dae-4632-d9a2-6a8446fd19dd"
   },
   "outputs": [
    {
     "data": {
      "text/plain": [
       "['«Властелин колец»',\n",
       " '«Гордость и предубеждение»',\n",
       " '«Тёмные начала»',\n",
       " '«Автостопом по галактике»',\n",
       " '«Гарри Поттер и Кубок огня»']"
      ]
     },
     "execution_count": 5,
     "metadata": {},
     "output_type": "execute_result"
    }
   ],
   "source": [
    "# названия книг\n",
    "\n",
    "titles = [  '«Властелин колец»',\n",
    "            '«Гордость и предубеждение»',\n",
    "            '«Тёмные начала»',\n",
    "            '«Автостопом по галактике»',\n",
    "            '«Гарри Поттер и Кубок огня»',\n",
    "            '«Убить пересмешника»',\n",
    "            '«Винни Пух»',\n",
    "            '«1984»',\n",
    "            '«Лев, колдунья и платяной шкаф»',\n",
    "            '«Джейн Эйр»',\n",
    "            '«Уловка-22»',\n",
    "            '«Грозовой перевал»',\n",
    "            '«Пение птиц»',\n",
    "            '«Ребекка»',\n",
    "            '«Над пропастью во ржи»',\n",
    "            '«Ветер в ивах»',\n",
    "            '«Большие надежды»',\n",
    "            '«Маленькие женщины»',\n",
    "            '«Мандолина капитана Корелли»',\n",
    "            '«Война и мир»',\n",
    "            '«Унесённые ветром»',\n",
    "            '«Гарри Поттер и философский камень»',\n",
    "            '«Гарри Поттер и Тайная комната»',\n",
    "            '«Гарри Поттер и узник Азкабана»',\n",
    "            '«Хоббит, или Туда и обратно»',\n",
    "            '«Тэсс из рода д’Эрбервиллей»',\n",
    "            '«Миддлмарч»',\n",
    "            '«Молитва об Оуэне Мини»',\n",
    "            '«Гроздья гнева»',\n",
    "            '«Алиса в Стране чудес»',\n",
    "            '«Дневник Трейси Бикер»',\n",
    "            '«Сто лет одиночества»',\n",
    "            '«Столпы Земли»',\n",
    "            '«Дэвид Копперфильд»',\n",
    "            '«Чарли и шоколадная фабрика»',\n",
    "            '«Остров сокровищ»',\n",
    "            '«Город как Элис»',\n",
    "            '«Доводы рассудка»',\n",
    "            '«Дюна»',\n",
    "            '«Эмма»',\n",
    "            '«Аня из Зелёных Мезонинов»',\n",
    "            '«Обитатели холмов»',\n",
    "            '«Великий Гэтсби»',\n",
    "            '«Граф Монте-Кристо»',\n",
    "            '«Возвращение в Брайдсхед»',\n",
    "            '«Скотный двор»',\n",
    "            '«Рождественская песнь»',\n",
    "            '«Вдали от обезумевшей толпы»',\n",
    "            '«Спокойной ночи, мистер Том»',\n",
    "            '«Семейная реликвия»',\n",
    "            '«Таинственный сад»',\n",
    "            '«О мышах и людях»',\n",
    "            '«Противостояние»',\n",
    "            '«Анна Каренина»',\n",
    "            '«Подходящий жених»',\n",
    "            '«БДВ, или Большой и добрый великан»',\n",
    "            '«Ласточки и амазонки»',\n",
    "            '«Чёрный красавчик»',\n",
    "            '«Артемис Фаул»',\n",
    "            '«Преступление и наказание»',\n",
    "            '«Крестики-нолики»',\n",
    "            '«Мемуары гейши»',\n",
    "            '«Повесть о двух городах»',\n",
    "            '«Поющие в терновнике»',\n",
    "            '«Мор, ученик Смерти»',\n",
    "            '«Далёкое волшебное дерево»',\n",
    "            '«Волхв»',\n",
    "            '«Благие знамения»',\n",
    "            '«Стража! Стража!»',\n",
    "            '«Повелитель мух»',\n",
    "            '«Парфюмер»',\n",
    "            '«Филантропы в рваных штанах»',\n",
    "            '«Ночная стража»',\n",
    "            '«Матильда»',\n",
    "            '«Дневник Бриджит Джонс»',\n",
    "            '«Тайная история»',\n",
    "            '«Женщина в белом»',\n",
    "            '«Улисс»',\n",
    "            '«Холодный дом»',\n",
    "            '«Двойняшки»',\n",
    "            '«Семейство Твит»',\n",
    "            '«Я захватываю замок»',\n",
    "            '«Ямы»',\n",
    "            '«Горменгаст»',\n",
    "            '«Бог мелочей»',\n",
    "            '«Вики-Ангел»',\n",
    "            '«О дивный новый мир»',\n",
    "            '«Неуютная ферма»',\n",
    "            '«Чародей»',\n",
    "            '«В дороге»',\n",
    "            '«Крёстный отец»',\n",
    "            '«Клан пещерного медведя»',\n",
    "            '«Цвет волшебства»',\n",
    "            '«Алхимик»',\n",
    "            '«Кэтрин»',\n",
    "            '«Каин и Авель»',\n",
    "            '«Любовь во время холеры»',\n",
    "            '«Девчонки в поисках любви»',\n",
    "            '«Дневники принцессы»',\n",
    "            '«Дети полуночи»',\n",
    "            '«Трое в лодке, не считая собаки»',\n",
    "            '«Мелкие боги»',\n",
    "            '«Пляж»',\n",
    "            '«Дракула»',\n",
    "            '«Белый пик»',\n",
    "            '«Посмертные записки Пиквикского клуба»',\n",
    "            '«Громобой»',\n",
    "            '«Осиная фабрика»',\n",
    "            '«День Шакала»',\n",
    "            '«Разрисованная мама»',\n",
    "            '«Джуд Незаметный»',\n",
    "            '«Тайный дневник Адриана Моула»',\n",
    "            '«Жестокое море»',\n",
    "            '«Отверженные»',\n",
    "            '«Мэр Кэстербриджа»',\n",
    "            '«Рискованные игры»',\n",
    "            '«Плохие девчонки»',\n",
    "            '«Портрет Дориана Грея»',\n",
    "            '«Сёгун»',\n",
    "            '«День триффидов»',\n",
    "            '«Лола Роза»',\n",
    "            '«Ярмарка тщеславия»',\n",
    "            '«Дом из листьев»',\n",
    "            '«Сага о Форсайтах»',\n",
    "            '«Библия ядовитого леса»',\n",
    "            '«Мрачный Жнец»',\n",
    "            '«Ангус, ремни и конкретные обжимашки»',\n",
    "            '«Собака Баскервилей»',\n",
    "]\n",
    "\n",
    "titles[:5]"
   ]
  },
  {
   "cell_type": "code",
   "execution_count": 6,
   "metadata": {
    "colab": {
     "base_uri": "https://localhost:8080/"
    },
    "id": "FZjrQYFzA7nZ",
    "outputId": "c1dfddeb-549b-47d6-cda3-9cc123acd850"
   },
   "outputs": [
    {
     "name": "stdout",
     "output_type": "stream",
     "text": [
      "«Осиная фабрика» Популярность Erlang начала расти в связи с расширением его области применения (телекоммуникационные системы) на высоконагруженные параллельные распределённые системы, обслуживающие миллионы пользователей WWW, такие как чаты, системы управления содержимым, веб-серверы и распределённые, требующие масштабирования базы данных. 1788-07-07 root/aaa/aac/s.jpg\n"
     ]
    }
   ],
   "source": [
    "# книги\n",
    "# рандомное количество рандомных авторов\n",
    "\n",
    "n = 100\n",
    "min_sentences = 1\n",
    "max_sentences = 3\n",
    "start_date = 1500\n",
    "end_date = 2010\n",
    "\n",
    "from mimesis import locales, enums\n",
    "from mimesis import Generic\n",
    "import random\n",
    "\n",
    "class Book:\n",
    "    def __init__(self):\n",
    "        generic = Generic('ru')\n",
    "        self.title = random.choice(titles)\n",
    "        self.description = generic.text.text(quantity=random.randint(min_sentences, max_sentences))\n",
    "        self.release_date = generic.datetime.date(start=start_date, end=end_date)\n",
    "        self.photo = random.choice(sources)\n",
    "    def __str__(self):\n",
    "        return ' '.join([self.title, self.description, str(self.release_date), self.photo])\n",
    "\n",
    "books = [Book() for _ in range(n)]\n",
    "print(books[0])"
   ]
  },
  {
   "cell_type": "code",
   "execution_count": 7,
   "metadata": {
    "colab": {
     "base_uri": "https://localhost:8080/"
    },
    "id": "wGLKXODgA76I",
    "outputId": "983d0c27-403d-4239-f47d-4fd300cad721"
   },
   "outputs": [
    {
     "name": "stdout",
     "output_type": "stream",
     "text": [
      "Ниночка Атешева root/aaa/aal/d.png Разработан и поддерживается компанией Ericsson. Разработан и поддерживается компанией Ericsson. 1672-11-01 1774-01-08\n"
     ]
    }
   ],
   "source": [
    "# авторы\n",
    "\n",
    "n = 100\n",
    "min_sentences = 1\n",
    "max_sentences = 3\n",
    "start_date = 1500\n",
    "end_date = 2010\n",
    "\n",
    "from mimesis import locales, enums\n",
    "from mimesis import Generic\n",
    "import random\n",
    "\n",
    "class Author:\n",
    "    def __init__(self):\n",
    "        generic = Generic('ru')\n",
    "        sex = random.choice([enums.Gender.MALE, enums.Gender.FEMALE])\n",
    "        self.first_name = generic.person.name(gender=sex)\n",
    "        self.last_name = generic.person.last_name(gender=sex)\n",
    "        self.photo = random.choice(sources) \n",
    "        self.description = generic.text.text(quantity=random.randint(min_sentences, max_sentences))\n",
    "        self.year_of_birth = generic.datetime.date(start=start_date, end=end_date)\n",
    "        self.year_of_death = random.choice([-1, generic.datetime.date(start=int(self.year_of_birth.year) + 10, end=max(end_date + 10, int(self.year_of_birth.year) + 90))])\n",
    "    def __str__(self):\n",
    "        return ' '.join([self.first_name, self.last_name, self.photo, self.description, str(self.year_of_birth), str(self.year_of_death)])\n",
    "\n",
    "authors = [Author() for _ in range(n)]\n",
    "print(authors[0])"
   ]
  },
  {
   "cell_type": "code",
   "execution_count": 8,
   "metadata": {
    "colab": {
     "base_uri": "https://localhost:8080/"
    },
    "id": "5ZN_RVGPBDVr",
    "outputId": "12c8e628-83a2-4330-a1b4-9b390ff7dc6f"
   },
   "outputs": [
    {
     "data": {
      "text/plain": [
       "['Тебе нужна будет лодка побольше']"
      ]
     },
     "execution_count": 8,
     "metadata": {},
     "output_type": "execute_result"
    }
   ],
   "source": [
    "# цитаты\n",
    "# рандомный book_id, рандомный user_id\n",
    "# минимальное число предложений: min_sentences \n",
    "# максимальное чисто предложений: max_sentences \n",
    "# число различных цитат: n\n",
    "\n",
    "n = 100\n",
    "min_sentences = 3\n",
    "max_sentences = 15\n",
    "\n",
    "\n",
    "import random\n",
    "from mimesis import locales\n",
    "from mimesis import Text\n",
    "\n",
    "text = Text('ru')\n",
    "\n",
    "quotes = []\n",
    "for i in range(n):\n",
    "    quotes.append(text.quote())\n",
    "quotes[:min(n, 1)]"
   ]
  },
  {
   "cell_type": "code",
   "execution_count": 9,
   "metadata": {
    "colab": {
     "base_uri": "https://localhost:8080/"
    },
    "id": "sXbIpr4bBE4X",
    "outputId": "d5824c6e-6201-4cb5-eb89-d07688a32ddd"
   },
   "outputs": [
    {
     "data": {
      "text/plain": [
       "['Язык включает в себя средства порождения параллельных легковесных процессов и их взаимодействия через обмен асинхронными сообщениями в соответствии с моделью акторов. Популярность Erlang начала расти в связи с расширением его области применения (телекоммуникационные системы) на высоконагруженные параллельные распределённые системы, обслуживающие миллионы пользователей WWW, такие как чаты, системы управления содержимым, веб-серверы и распределённые, требующие масштабирования базы данных. Популярность Erlang начала расти в связи с расширением его области применения (телекоммуникационные системы) на высоконагруженные параллельные распределённые системы, обслуживающие миллионы пользователей WWW, такие как чаты, системы управления содержимым, веб-серверы и распределённые, требующие масштабирования базы данных. Является одним из самых распространённых языков программирования с поддержкой отложенных вычислений. REPL — форма организации простой интерактивной среды программирования в рамках средств интерфейса командной строки. Полнотиповое программирование — стиль программирования, отличающийся обширным использованием информации о типах с тем, чтобы механизм проверки согласования типов обеспечил раннее выявление максимального количества всевозможных разновидностей багов. Erlang является декларативным языком программирования, который скорее используется для описания того, что должно быть вычислено нежели как. Приложения Java обычно транслируются в специальный байт-код, поэтому они могут работать на любой компьютерной архитектуре, с помощью виртуальной Java-машины. Парадигма программирования — это совокупность идей и понятий, определяющих стиль написания компьютерных программ. Erlang применяется в нескольких NoSQL-базах данных высокой доступности. Свой синтаксис и некоторые концепции Erlang унаследовал от языка логического программирования Пролог. Полнотиповое программирование — стиль программирования, отличающийся обширным использованием информации о типах с тем, чтобы механизм проверки согласования типов обеспечил раннее выявление максимального количества всевозможных разновидностей багов. Свой синтаксис и некоторые концепции Erlang унаследовал от языка логического программирования Пролог. Популярность Erlang начала расти в связи с расширением его области применения (телекоммуникационные системы) на высоконагруженные параллельные распределённые системы, обслуживающие миллионы пользователей WWW, такие как чаты, системы управления содержимым, веб-серверы и распределённые, требующие масштабирования базы данных.']"
      ]
     },
     "execution_count": 9,
     "metadata": {},
     "output_type": "execute_result"
    }
   ],
   "source": [
    "# истории (аналогично цитатам)\n",
    "\n",
    "n = 100\n",
    "min_sentences = 3\n",
    "max_sentences = 15\n",
    "\n",
    "\n",
    "import random\n",
    "from mimesis import locales\n",
    "from mimesis import Text\n",
    "\n",
    "text = Text('ru')\n",
    "\n",
    "stories = [text.text(quantity=random.randint(min_sentences, max_sentences)) for _ in range(n)]\n",
    "stories[:min(n, 1)]"
   ]
  },
  {
   "cell_type": "code",
   "execution_count": 10,
   "metadata": {
    "colab": {
     "base_uri": "https://localhost:8080/"
    },
    "id": "BuxjArbVBIjt",
    "outputId": "de5af3bf-23cd-460e-9985-7ab5e2e3b5db"
   },
   "outputs": [
    {
     "data": {
      "text/plain": [
       "['Python — высокоуровневый язык программирования общего назначения, ориентированный на повышение производительности разработчика и читаемости кода. Это способ концептуализации, определяющий организацию вычислений и структурирование работы, выполняемой компьютером. В то же время стандартная библиотека включает большой объём полезных функций. Разработан и поддерживается компанией Ericsson. Полнотиповое программирование — стиль программирования, отличающийся обширным использованием информации о типах с тем, чтобы механизм проверки согласования типов обеспечил раннее выявление максимального количества всевозможных разновидностей багов. Парадигма программирования — это совокупность идей и понятий, определяющих стиль написания компьютерных программ. Например, определение функции, которое использует сопоставление с образцом, для выбора одного из вариантов вычисления или извлечения элемента данных из составной структуры, напоминает уравнение. Erlang — функциональный язык программирования с сильной динамической типизацией, предназначенный для создания распределённых вычислительных систем. Python поддерживает несколько парадигм программирования, в том числе структурное, объектно-ориентированное, функциональное, императивное и аспектно-ориентированное. Сопоставление с образцом распространено даже на битовые строки, что упрощает реализацию телекоммуникационных протоколов. Haskell — стандартизированный чистый функциональный язык программирования общего назначения.']"
      ]
     },
     "execution_count": 10,
     "metadata": {},
     "output_type": "execute_result"
    }
   ],
   "source": [
    "# отзывы (аналогично)\n",
    "# рандомная оценка\n",
    "\n",
    "n = 100\n",
    "min_sentences = 3\n",
    "max_sentences = 15\n",
    "\n",
    "import random\n",
    "from mimesis import locales\n",
    "from mimesis import Text\n",
    "\n",
    "text = Text('ru')\n",
    "\n",
    "reviews = [text.text(quantity=random.randint(min_sentences, max_sentences)) for _ in range(n)]\n",
    "reviews[:min(n, 1)]"
   ]
  },
  {
   "cell_type": "code",
   "execution_count": 11,
   "metadata": {
    "colab": {
     "base_uri": "https://localhost:8080/"
    },
    "id": "MiLFRv70BKVU",
    "outputId": "e79ed292-ce5e-4bc0-e945-5254d539fabc"
   },
   "outputs": [
    {
     "ename": "MemoryError",
     "evalue": "",
     "output_type": "error",
     "traceback": [
      "\u001b[1;31m---------------------------------------------------------------------------\u001b[0m",
      "\u001b[1;31mMemoryError\u001b[0m                               Traceback (most recent call last)",
      "\u001b[1;32m<ipython-input-11-8b42ee5b9366>\u001b[0m in \u001b[0;36m<module>\u001b[1;34m\u001b[0m\n\u001b[0;32m     18\u001b[0m         \u001b[1;32mreturn\u001b[0m \u001b[1;34m' '\u001b[0m\u001b[1;33m.\u001b[0m\u001b[0mjoin\u001b[0m\u001b[1;33m(\u001b[0m\u001b[1;33m[\u001b[0m\u001b[0mself\u001b[0m\u001b[1;33m.\u001b[0m\u001b[0mselection_title\u001b[0m\u001b[1;33m,\u001b[0m \u001b[1;34m'|'\u001b[0m\u001b[1;33m,\u001b[0m \u001b[0mself\u001b[0m\u001b[1;33m.\u001b[0m\u001b[0mdescription\u001b[0m\u001b[1;33m]\u001b[0m\u001b[1;33m)\u001b[0m\u001b[1;33m\u001b[0m\u001b[0m\n\u001b[0;32m     19\u001b[0m \u001b[1;33m\u001b[0m\u001b[0m\n\u001b[1;32m---> 20\u001b[1;33m \u001b[0mselections\u001b[0m \u001b[1;33m=\u001b[0m \u001b[1;33m[\u001b[0m\u001b[0mSelection\u001b[0m\u001b[1;33m(\u001b[0m\u001b[1;33m)\u001b[0m \u001b[1;32mfor\u001b[0m \u001b[0m_\u001b[0m \u001b[1;32min\u001b[0m \u001b[0mrange\u001b[0m\u001b[1;33m(\u001b[0m\u001b[0mn\u001b[0m\u001b[1;33m)\u001b[0m\u001b[1;33m]\u001b[0m\u001b[1;33m\u001b[0m\u001b[0m\n\u001b[0m\u001b[0;32m     21\u001b[0m \u001b[0mprint\u001b[0m\u001b[1;33m(\u001b[0m\u001b[0mselections\u001b[0m\u001b[1;33m[\u001b[0m\u001b[1;36m0\u001b[0m\u001b[1;33m]\u001b[0m\u001b[1;33m)\u001b[0m\u001b[1;33m\u001b[0m\u001b[0m\n",
      "\u001b[1;32m<ipython-input-11-8b42ee5b9366>\u001b[0m in \u001b[0;36m<listcomp>\u001b[1;34m(.0)\u001b[0m\n\u001b[0;32m     18\u001b[0m         \u001b[1;32mreturn\u001b[0m \u001b[1;34m' '\u001b[0m\u001b[1;33m.\u001b[0m\u001b[0mjoin\u001b[0m\u001b[1;33m(\u001b[0m\u001b[1;33m[\u001b[0m\u001b[0mself\u001b[0m\u001b[1;33m.\u001b[0m\u001b[0mselection_title\u001b[0m\u001b[1;33m,\u001b[0m \u001b[1;34m'|'\u001b[0m\u001b[1;33m,\u001b[0m \u001b[0mself\u001b[0m\u001b[1;33m.\u001b[0m\u001b[0mdescription\u001b[0m\u001b[1;33m]\u001b[0m\u001b[1;33m)\u001b[0m\u001b[1;33m\u001b[0m\u001b[0m\n\u001b[0;32m     19\u001b[0m \u001b[1;33m\u001b[0m\u001b[0m\n\u001b[1;32m---> 20\u001b[1;33m \u001b[0mselections\u001b[0m \u001b[1;33m=\u001b[0m \u001b[1;33m[\u001b[0m\u001b[0mSelection\u001b[0m\u001b[1;33m(\u001b[0m\u001b[1;33m)\u001b[0m \u001b[1;32mfor\u001b[0m \u001b[0m_\u001b[0m \u001b[1;32min\u001b[0m \u001b[0mrange\u001b[0m\u001b[1;33m(\u001b[0m\u001b[0mn\u001b[0m\u001b[1;33m)\u001b[0m\u001b[1;33m]\u001b[0m\u001b[1;33m\u001b[0m\u001b[0m\n\u001b[0m\u001b[0;32m     21\u001b[0m \u001b[0mprint\u001b[0m\u001b[1;33m(\u001b[0m\u001b[0mselections\u001b[0m\u001b[1;33m[\u001b[0m\u001b[1;36m0\u001b[0m\u001b[1;33m]\u001b[0m\u001b[1;33m)\u001b[0m\u001b[1;33m\u001b[0m\u001b[0m\n",
      "\u001b[1;32m<ipython-input-11-8b42ee5b9366>\u001b[0m in \u001b[0;36m__init__\u001b[1;34m(self)\u001b[0m\n\u001b[0;32m     11\u001b[0m \u001b[1;32mclass\u001b[0m \u001b[0mSelection\u001b[0m\u001b[1;33m:\u001b[0m\u001b[1;33m\u001b[0m\u001b[0m\n\u001b[0;32m     12\u001b[0m     \u001b[1;32mdef\u001b[0m \u001b[0m__init__\u001b[0m\u001b[1;33m(\u001b[0m\u001b[0mself\u001b[0m\u001b[1;33m)\u001b[0m\u001b[1;33m:\u001b[0m\u001b[1;33m\u001b[0m\u001b[0m\n\u001b[1;32m---> 13\u001b[1;33m         \u001b[0mgeneric\u001b[0m \u001b[1;33m=\u001b[0m \u001b[0mGeneric\u001b[0m\u001b[1;33m(\u001b[0m\u001b[1;34m'ru'\u001b[0m\u001b[1;33m)\u001b[0m\u001b[1;33m\u001b[0m\u001b[0m\n\u001b[0m\u001b[0;32m     14\u001b[0m         \u001b[0mself\u001b[0m\u001b[1;33m.\u001b[0m\u001b[0mselection_title\u001b[0m \u001b[1;33m=\u001b[0m \u001b[0mgeneric\u001b[0m\u001b[1;33m.\u001b[0m\u001b[0mtext\u001b[0m\u001b[1;33m.\u001b[0m\u001b[0mtitle\u001b[0m\u001b[1;33m(\u001b[0m\u001b[1;33m)\u001b[0m\u001b[1;33m\u001b[0m\u001b[0m\n\u001b[0;32m     15\u001b[0m         \u001b[0mself\u001b[0m\u001b[1;33m.\u001b[0m\u001b[0mdescription\u001b[0m \u001b[1;33m=\u001b[0m \u001b[0mgeneric\u001b[0m\u001b[1;33m.\u001b[0m\u001b[0mtext\u001b[0m\u001b[1;33m.\u001b[0m\u001b[0mtext\u001b[0m\u001b[1;33m(\u001b[0m\u001b[0mquantity\u001b[0m\u001b[1;33m=\u001b[0m\u001b[0mrandom\u001b[0m\u001b[1;33m.\u001b[0m\u001b[0mrandint\u001b[0m\u001b[1;33m(\u001b[0m\u001b[0mmin_sentences\u001b[0m\u001b[1;33m,\u001b[0m \u001b[0mmax_sentences\u001b[0m\u001b[1;33m)\u001b[0m\u001b[1;33m)\u001b[0m\u001b[1;33m\u001b[0m\u001b[0m\n",
      "\u001b[1;32mc:\\programdata\\lib\\site-packages\\mimesis\\providers\\generic.py\u001b[0m in \u001b[0;36m__init__\u001b[1;34m(self, *args, **kwargs)\u001b[0m\n\u001b[0;32m     60\u001b[0m         \u001b[0mself\u001b[0m\u001b[1;33m.\u001b[0m\u001b[0mpath\u001b[0m \u001b[1;33m=\u001b[0m \u001b[0mPath\u001b[0m\u001b[1;33m(\u001b[0m\u001b[0mseed\u001b[0m\u001b[1;33m=\u001b[0m\u001b[0mself\u001b[0m\u001b[1;33m.\u001b[0m\u001b[0mseed\u001b[0m\u001b[1;33m)\u001b[0m\u001b[1;33m\u001b[0m\u001b[0m\n\u001b[0;32m     61\u001b[0m         \u001b[0mself\u001b[0m\u001b[1;33m.\u001b[0m\u001b[0mpayment\u001b[0m \u001b[1;33m=\u001b[0m \u001b[0mPayment\u001b[0m\u001b[1;33m(\u001b[0m\u001b[0mseed\u001b[0m\u001b[1;33m=\u001b[0m\u001b[0mself\u001b[0m\u001b[1;33m.\u001b[0m\u001b[0mseed\u001b[0m\u001b[1;33m)\u001b[0m\u001b[1;33m\u001b[0m\u001b[0m\n\u001b[1;32m---> 62\u001b[1;33m         \u001b[0mself\u001b[0m\u001b[1;33m.\u001b[0m\u001b[0mcryptographic\u001b[0m \u001b[1;33m=\u001b[0m \u001b[0mCryptographic\u001b[0m\u001b[1;33m(\u001b[0m\u001b[0mseed\u001b[0m\u001b[1;33m=\u001b[0m\u001b[0mself\u001b[0m\u001b[1;33m.\u001b[0m\u001b[0mseed\u001b[0m\u001b[1;33m)\u001b[0m\u001b[1;33m\u001b[0m\u001b[0m\n\u001b[0m\u001b[0;32m     63\u001b[0m         \u001b[0mself\u001b[0m\u001b[1;33m.\u001b[0m\u001b[0mstructure\u001b[0m \u001b[1;33m=\u001b[0m \u001b[0mStructure\u001b[0m\u001b[1;33m(\u001b[0m\u001b[0mseed\u001b[0m\u001b[1;33m=\u001b[0m\u001b[0mself\u001b[0m\u001b[1;33m.\u001b[0m\u001b[0mseed\u001b[0m\u001b[1;33m)\u001b[0m\u001b[1;33m\u001b[0m\u001b[0m\n\u001b[0;32m     64\u001b[0m         \u001b[0mself\u001b[0m\u001b[1;33m.\u001b[0m\u001b[0mchoice\u001b[0m \u001b[1;33m=\u001b[0m \u001b[0mChoice\u001b[0m\u001b[1;33m(\u001b[0m\u001b[0mseed\u001b[0m\u001b[1;33m=\u001b[0m\u001b[0mself\u001b[0m\u001b[1;33m.\u001b[0m\u001b[0mseed\u001b[0m\u001b[1;33m)\u001b[0m\u001b[1;33m\u001b[0m\u001b[0m\n",
      "\u001b[1;32mc:\\programdata\\lib\\site-packages\\mimesis\\providers\\cryptographic.py\u001b[0m in \u001b[0;36m__init__\u001b[1;34m(self, *args, **kwargs)\u001b[0m\n\u001b[0;32m     24\u001b[0m         \"\"\"\n\u001b[0;32m     25\u001b[0m         \u001b[0msuper\u001b[0m\u001b[1;33m(\u001b[0m\u001b[1;33m)\u001b[0m\u001b[1;33m.\u001b[0m\u001b[0m__init__\u001b[0m\u001b[1;33m(\u001b[0m\u001b[1;33m*\u001b[0m\u001b[0margs\u001b[0m\u001b[1;33m,\u001b[0m \u001b[1;33m**\u001b[0m\u001b[0mkwargs\u001b[0m\u001b[1;33m)\u001b[0m\u001b[1;33m\u001b[0m\u001b[0m\n\u001b[1;32m---> 26\u001b[1;33m         \u001b[0mself\u001b[0m\u001b[1;33m.\u001b[0m\u001b[0m__words\u001b[0m \u001b[1;33m=\u001b[0m \u001b[0mText\u001b[0m\u001b[1;33m(\u001b[0m\u001b[1;34m'en'\u001b[0m\u001b[1;33m)\u001b[0m\u001b[1;33m.\u001b[0m\u001b[0m_data\u001b[0m\u001b[1;33m.\u001b[0m\u001b[0mget\u001b[0m\u001b[1;33m(\u001b[0m\u001b[1;34m'words'\u001b[0m\u001b[1;33m,\u001b[0m \u001b[1;33m{\u001b[0m\u001b[1;33m}\u001b[0m\u001b[1;33m)\u001b[0m\u001b[1;33m\u001b[0m\u001b[0m\n\u001b[0m\u001b[0;32m     27\u001b[0m \u001b[1;33m\u001b[0m\u001b[0m\n\u001b[0;32m     28\u001b[0m     \u001b[1;32mclass\u001b[0m \u001b[0mMeta\u001b[0m\u001b[1;33m:\u001b[0m\u001b[1;33m\u001b[0m\u001b[0m\n",
      "\u001b[1;32mc:\\programdata\\lib\\site-packages\\mimesis\\providers\\text.py\u001b[0m in \u001b[0;36m__init__\u001b[1;34m(self, *args, **kwargs)\u001b[0m\n\u001b[0;32m     22\u001b[0m         \u001b[0msuper\u001b[0m\u001b[1;33m(\u001b[0m\u001b[1;33m)\u001b[0m\u001b[1;33m.\u001b[0m\u001b[0m__init__\u001b[0m\u001b[1;33m(\u001b[0m\u001b[1;33m*\u001b[0m\u001b[0margs\u001b[0m\u001b[1;33m,\u001b[0m \u001b[1;33m**\u001b[0m\u001b[0mkwargs\u001b[0m\u001b[1;33m)\u001b[0m\u001b[1;33m\u001b[0m\u001b[0m\n\u001b[0;32m     23\u001b[0m         \u001b[0mself\u001b[0m\u001b[1;33m.\u001b[0m\u001b[0m_datafile\u001b[0m \u001b[1;33m=\u001b[0m \u001b[1;34m'text.json'\u001b[0m\u001b[1;33m\u001b[0m\u001b[0m\n\u001b[1;32m---> 24\u001b[1;33m         \u001b[0mself\u001b[0m\u001b[1;33m.\u001b[0m\u001b[0m_pull\u001b[0m\u001b[1;33m(\u001b[0m\u001b[0mself\u001b[0m\u001b[1;33m.\u001b[0m\u001b[0m_datafile\u001b[0m\u001b[1;33m)\u001b[0m\u001b[1;33m\u001b[0m\u001b[0m\n\u001b[0m\u001b[0;32m     25\u001b[0m \u001b[1;33m\u001b[0m\u001b[0m\n\u001b[0;32m     26\u001b[0m     \u001b[1;32mclass\u001b[0m \u001b[0mMeta\u001b[0m\u001b[1;33m:\u001b[0m\u001b[1;33m\u001b[0m\u001b[0m\n",
      "\u001b[1;32mc:\\programdata\\lib\\site-packages\\mimesis\\providers\\base.py\u001b[0m in \u001b[0;36m_pull\u001b[1;34m(self, datafile)\u001b[0m\n\u001b[0;32m    148\u001b[0m \u001b[1;33m\u001b[0m\u001b[0m\n\u001b[0;32m    149\u001b[0m         \u001b[0mmaster_locale\u001b[0m \u001b[1;33m=\u001b[0m \u001b[0mlocale\u001b[0m\u001b[1;33m.\u001b[0m\u001b[0msplit\u001b[0m\u001b[1;33m(\u001b[0m\u001b[0mseparator\u001b[0m\u001b[1;33m)\u001b[0m\u001b[1;33m.\u001b[0m\u001b[0mpop\u001b[0m\u001b[1;33m(\u001b[0m\u001b[1;36m0\u001b[0m\u001b[1;33m)\u001b[0m\u001b[1;33m\u001b[0m\u001b[0m\n\u001b[1;32m--> 150\u001b[1;33m         \u001b[0mdata\u001b[0m \u001b[1;33m=\u001b[0m \u001b[0mget_data\u001b[0m\u001b[1;33m(\u001b[0m\u001b[0mmaster_locale\u001b[0m\u001b[1;33m)\u001b[0m\u001b[1;33m\u001b[0m\u001b[0m\n\u001b[0m\u001b[0;32m    151\u001b[0m \u001b[1;33m\u001b[0m\u001b[0m\n\u001b[0;32m    152\u001b[0m         \u001b[1;32mif\u001b[0m \u001b[0mseparator\u001b[0m \u001b[1;32min\u001b[0m \u001b[0mlocale\u001b[0m\u001b[1;33m:\u001b[0m\u001b[1;33m\u001b[0m\u001b[0m\n",
      "\u001b[1;32mc:\\programdata\\lib\\site-packages\\mimesis\\providers\\base.py\u001b[0m in \u001b[0;36mget_data\u001b[1;34m(locale_name)\u001b[0m\n\u001b[0;32m    143\u001b[0m             \u001b[0mfile_path\u001b[0m \u001b[1;33m=\u001b[0m \u001b[0mPath\u001b[0m\u001b[1;33m(\u001b[0m\u001b[0mdata_dir\u001b[0m\u001b[1;33m)\u001b[0m\u001b[1;33m.\u001b[0m\u001b[0mjoinpath\u001b[0m\u001b[1;33m(\u001b[0m\u001b[0mlocale_name\u001b[0m\u001b[1;33m,\u001b[0m \u001b[0mdatafile\u001b[0m\u001b[1;33m)\u001b[0m\u001b[1;33m\u001b[0m\u001b[0m\n\u001b[0;32m    144\u001b[0m             \u001b[1;32mwith\u001b[0m \u001b[0mopen\u001b[0m\u001b[1;33m(\u001b[0m\u001b[0mfile_path\u001b[0m\u001b[1;33m,\u001b[0m \u001b[1;34m'r'\u001b[0m\u001b[1;33m,\u001b[0m \u001b[0mencoding\u001b[0m\u001b[1;33m=\u001b[0m\u001b[1;34m'utf8'\u001b[0m\u001b[1;33m)\u001b[0m \u001b[1;32mas\u001b[0m \u001b[0mf\u001b[0m\u001b[1;33m:\u001b[0m\u001b[1;33m\u001b[0m\u001b[0m\n\u001b[1;32m--> 145\u001b[1;33m                 \u001b[1;32mreturn\u001b[0m \u001b[0mjson\u001b[0m\u001b[1;33m.\u001b[0m\u001b[0mload\u001b[0m\u001b[1;33m(\u001b[0m\u001b[0mf\u001b[0m\u001b[1;33m)\u001b[0m\u001b[1;33m\u001b[0m\u001b[0m\n\u001b[0m\u001b[0;32m    146\u001b[0m \u001b[1;33m\u001b[0m\u001b[0m\n\u001b[0;32m    147\u001b[0m         \u001b[0mseparator\u001b[0m \u001b[1;33m=\u001b[0m \u001b[0mlocales\u001b[0m\u001b[1;33m.\u001b[0m\u001b[0mLOCALE_SEPARATOR\u001b[0m\u001b[1;33m\u001b[0m\u001b[0m\n",
      "\u001b[1;32mc:\\programdata\\lib\\json\\__init__.py\u001b[0m in \u001b[0;36mload\u001b[1;34m(fp, cls, object_hook, parse_float, parse_int, parse_constant, object_pairs_hook, **kw)\u001b[0m\n\u001b[0;32m    294\u001b[0m \u001b[1;33m\u001b[0m\u001b[0m\n\u001b[0;32m    295\u001b[0m     \"\"\"\n\u001b[1;32m--> 296\u001b[1;33m     return loads(fp.read(),\n\u001b[0m\u001b[0;32m    297\u001b[0m         \u001b[0mcls\u001b[0m\u001b[1;33m=\u001b[0m\u001b[0mcls\u001b[0m\u001b[1;33m,\u001b[0m \u001b[0mobject_hook\u001b[0m\u001b[1;33m=\u001b[0m\u001b[0mobject_hook\u001b[0m\u001b[1;33m,\u001b[0m\u001b[1;33m\u001b[0m\u001b[0m\n\u001b[0;32m    298\u001b[0m         \u001b[0mparse_float\u001b[0m\u001b[1;33m=\u001b[0m\u001b[0mparse_float\u001b[0m\u001b[1;33m,\u001b[0m \u001b[0mparse_int\u001b[0m\u001b[1;33m=\u001b[0m\u001b[0mparse_int\u001b[0m\u001b[1;33m,\u001b[0m\u001b[1;33m\u001b[0m\u001b[0m\n",
      "\u001b[1;32mc:\\programdata\\lib\\codecs.py\u001b[0m in \u001b[0;36mdecode\u001b[1;34m(self, input, final)\u001b[0m\n\u001b[0;32m    319\u001b[0m         \u001b[1;31m# decode input (taking the buffer into account)\u001b[0m\u001b[1;33m\u001b[0m\u001b[1;33m\u001b[0m\u001b[0m\n\u001b[0;32m    320\u001b[0m         \u001b[0mdata\u001b[0m \u001b[1;33m=\u001b[0m \u001b[0mself\u001b[0m\u001b[1;33m.\u001b[0m\u001b[0mbuffer\u001b[0m \u001b[1;33m+\u001b[0m \u001b[0minput\u001b[0m\u001b[1;33m\u001b[0m\u001b[0m\n\u001b[1;32m--> 321\u001b[1;33m         \u001b[1;33m(\u001b[0m\u001b[0mresult\u001b[0m\u001b[1;33m,\u001b[0m \u001b[0mconsumed\u001b[0m\u001b[1;33m)\u001b[0m \u001b[1;33m=\u001b[0m \u001b[0mself\u001b[0m\u001b[1;33m.\u001b[0m\u001b[0m_buffer_decode\u001b[0m\u001b[1;33m(\u001b[0m\u001b[0mdata\u001b[0m\u001b[1;33m,\u001b[0m \u001b[0mself\u001b[0m\u001b[1;33m.\u001b[0m\u001b[0merrors\u001b[0m\u001b[1;33m,\u001b[0m \u001b[0mfinal\u001b[0m\u001b[1;33m)\u001b[0m\u001b[1;33m\u001b[0m\u001b[0m\n\u001b[0m\u001b[0;32m    322\u001b[0m         \u001b[1;31m# keep undecoded input until the next call\u001b[0m\u001b[1;33m\u001b[0m\u001b[1;33m\u001b[0m\u001b[0m\n\u001b[0;32m    323\u001b[0m         \u001b[0mself\u001b[0m\u001b[1;33m.\u001b[0m\u001b[0mbuffer\u001b[0m \u001b[1;33m=\u001b[0m \u001b[0mdata\u001b[0m\u001b[1;33m[\u001b[0m\u001b[0mconsumed\u001b[0m\u001b[1;33m:\u001b[0m\u001b[1;33m]\u001b[0m\u001b[1;33m\u001b[0m\u001b[0m\n",
      "\u001b[1;31mMemoryError\u001b[0m: "
     ]
    }
   ],
   "source": [
    "# подборки\n",
    "\n",
    "n = 100\n",
    "min_sentences = 0\n",
    "max_sentences = 3\n",
    "\n",
    "import random\n",
    "from mimesis import locales\n",
    "from mimesis import Text\n",
    "\n",
    "class Selection:\n",
    "    def __init__(self):\n",
    "        generic = Generic('ru')\n",
    "        self.selection_title = generic.text.title()\n",
    "        self.description = generic.text.text(quantity=random.randint(min_sentences, max_sentences))\n",
    "    def __str__(self):\n",
    "        # вывод без описания, чисто потестить, но оно есть\n",
    "        return ' '.join([self.selection_title, '|', self.description])\n",
    "\n",
    "selections = [Selection() for _ in range(n)]\n",
    "print(selections[0])"
   ]
  },
  {
   "cell_type": "code",
   "execution_count": null,
   "metadata": {
    "colab": {
     "base_uri": "https://localhost:8080/"
    },
    "id": "CJYLoSgmBMxb",
    "outputId": "5de2a74a-4605-465d-eea7-8e66b6b5c2a9"
   },
   "outputs": [],
   "source": [
    "# пользователи\n",
    "\n",
    "\n",
    "n = 100\n",
    "min_sentences = 0\n",
    "max_sentences = 3\n",
    "\n",
    "from mimesis import locales, enums\n",
    "from mimesis import Generic\n",
    "import random\n",
    "import hashlib\n",
    "\n",
    "class User:\n",
    "    def __init__(self):\n",
    "        generic = Generic('ru')\n",
    "        self.sex = random.choice([enums.Gender.MALE, enums.Gender.FEMALE])\n",
    "        self.name = generic.person.name(gender=self.sex)\n",
    "        self.last_name = generic.person.last_name(gender=self.sex)\n",
    "        self.nick = generic.person.username()\n",
    "        self.description = generic.text.text(quantity=random.randint(min_sentences, max_sentences))\n",
    "        self.photo = random.choice(sources) \n",
    "        self.password = hashlib.md5(generic.person.password().encode('utf-8')).hexdigest()\n",
    "        self.sex = 'male' if self.sex == enums.Gender.MALE else 'female'\n",
    "    def __str__(self):\n",
    "        # вывод без описания, чисто потестить, но оно есть\n",
    "        return ' '.join([self.sex, self.name, self.last_name, self.nick, self.photo, self.password])\n",
    "        \n",
    "\n",
    "users = [User() for _ in range(n)]\n",
    "print(users[0])"
   ]
  },
  {
   "cell_type": "code",
   "execution_count": null,
   "metadata": {
    "colab": {
     "base_uri": "https://localhost:8080/"
    },
    "id": "spZHYai8BOTZ",
    "outputId": "f618621a-0cbb-4c0c-c39f-fdc35cfc6f19"
   },
   "outputs": [],
   "source": [
    "# достижения\n",
    "\n",
    "import random\n",
    "\n",
    "class Reward:\n",
    "    def __init__(this, name, description):\n",
    "        this.name = name\n",
    "        this.source = random.choice(sources)\n",
    "        this.description = description\n",
    "    def __str__(this):\n",
    "        return ' '.join([this.name, this.source, this.description])\n",
    "\n",
    "rewards = [Reward(\"Книгочей\", \"1500+ прочитанных книг\"),\n",
    "           Reward(\"Критик\", \"30+ рецензий с оценкой 50+\"),\n",
    "           Reward(\"Цитатчик\", \"1000+ цитат\"),\n",
    "           Reward(\"Комментатор\", \"3000+ комментариев\"),\n",
    "           Reward(\"Большой друг\", \"250+ взаимных друзей\"),\n",
    "           Reward(\"Рассказчик\", \"5 историй с оценкой 50+\"),\n",
    "           Reward(\"Старожил\", \"1000 дней на сайте, 100+ прочитанных книг\"),\n",
    "           ]\n",
    "print(rewards[2])"
   ]
  },
  {
   "cell_type": "code",
   "execution_count": null,
   "metadata": {
    "colab": {
     "base_uri": "https://localhost:8080/"
    },
    "id": "4VAAS_lSBVdz",
    "outputId": "ec1465c9-294e-45be-ad0f-9447e93cd95e"
   },
   "outputs": [],
   "source": [
    "# оценки (рандомная оценка рандомному объекту)\n",
    "\n",
    "type_of_marked_object = ['review',\n",
    "                         'story',\n",
    "                         'quote']\n",
    "\n",
    "type_of_marked_object"
   ]
  },
  {
   "cell_type": "code",
   "execution_count": null,
   "metadata": {
    "colab": {
     "base_uri": "https://localhost:8080/"
    },
    "id": "N1PUdaSEBYe6",
    "outputId": "a1ee2749-243f-45e7-e06c-35c66abeaee1"
   },
   "outputs": [],
   "source": [
    "# обсуждения\n",
    "\n",
    "n = 100\n",
    "min_sentences = 0\n",
    "max_sentences = 3\n",
    "\n",
    "import random\n",
    "from mimesis import locales\n",
    "from mimesis import Text\n",
    "\n",
    "class Dialog:\n",
    "    def __init__(self):\n",
    "        generic = Generic('ru')\n",
    "        self.dialog_title = generic.text.title()\n",
    "        self.description = generic.text.text(quantity=random.randint(min_sentences, max_sentences))\n",
    "    def __str__(self):\n",
    "        # вывод без описания, чисто потестить, но оно есть\n",
    "        return ' '.join([self.dialog_title, '|', self.description])\n",
    "\n",
    "dialogs = [Dialog() for _ in range(n)]\n",
    "print(dialogs[0])"
   ]
  },
  {
   "cell_type": "code",
   "execution_count": null,
   "metadata": {
    "colab": {
     "base_uri": "https://localhost:8080/"
    },
    "id": "IqzoQXGoBcH9",
    "outputId": "29e7555e-845e-474f-c81a-4b61cc94ec39"
   },
   "outputs": [],
   "source": [
    "# статьи (аналогично историям)\n",
    "\n",
    "n = 100\n",
    "min_sentences = 3\n",
    "max_sentences = 15\n",
    "\n",
    "\n",
    "import random\n",
    "from mimesis import locales\n",
    "from mimesis import Text\n",
    "\n",
    "text = Text('ru')\n",
    "\n",
    "articles = [text.text(quantity=random.randint(min_sentences, max_sentences)) for _ in range(n)]\n",
    "articles[:min(n, 1)]"
   ]
  },
  {
   "cell_type": "code",
   "execution_count": null,
   "metadata": {
    "id": "DedqYzP7BdOF"
   },
   "outputs": [],
   "source": [
    "# тип отношения пользователь - книга\n",
    "\n",
    "user_book_types = [\"Прочитал(а)\",\n",
    "                   \"Хочет прочитать\",\n",
    "                   \"Читает сейчас\",\n",
    "                   \"Избранное\",\n",
    "                   \"Перечитывает\",\n",
    "                   \"Не дочитал(а)\"]"
   ]
  },
  {
   "cell_type": "code",
   "execution_count": null,
   "metadata": {
    "id": "F-F4ts8mBehF"
   },
   "outputs": [],
   "source": []
  }
 ],
 "metadata": {
  "colab": {
   "collapsed_sections": [],
   "provenance": []
  },
  "kernelspec": {
   "display_name": "Python 3",
   "language": "python",
   "name": "python3"
  },
  "language_info": {
   "codemirror_mode": {
    "name": "ipython",
    "version": 3
   },
   "file_extension": ".py",
   "mimetype": "text/x-python",
   "name": "python",
   "nbconvert_exporter": "python",
   "pygments_lexer": "ipython3",
   "version": "3.6.5"
  }
 },
 "nbformat": 4,
 "nbformat_minor": 1
}
