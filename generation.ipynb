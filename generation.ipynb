{
  "nbformat": 4,
  "nbformat_minor": 0,
  "metadata": {
    "colab": {
      "provenance": [],
      "collapsed_sections": []
    },
    "kernelspec": {
      "name": "python3",
      "display_name": "Python 3"
    },
    "language_info": {
      "name": "python"
    }
  },
  "cells": [
    {
      "cell_type": "code",
      "source": [
        "! pip install mimesis"
      ],
      "metadata": {
        "colab": {
          "base_uri": "https://localhost:8080/"
        },
        "id": "bn7uHNQCH5WM",
        "outputId": "60c77595-5c9f-463f-e867-ca278452693d"
      },
      "execution_count": 2,
      "outputs": [
        {
          "output_type": "stream",
          "name": "stdout",
          "text": [
            "Looking in indexes: https://pypi.org/simple, https://us-python.pkg.dev/colab-wheels/public/simple/\n",
            "Collecting mimesis\n",
            "  Downloading mimesis-4.1.3.tar.gz (2.8 MB)\n",
            "\u001b[K     |████████████████████████████████| 2.8 MB 6.7 MB/s \n",
            "\u001b[?25hBuilding wheels for collected packages: mimesis\n",
            "  Building wheel for mimesis (setup.py) ... \u001b[?25l\u001b[?25hdone\n",
            "  Created wheel for mimesis: filename=mimesis-4.1.3-py3-none-any.whl size=2849753 sha256=d6ef91d0f78965f1f8e8e5975eebd75f11d93d6dcc187dd1317a82e3074a5013\n",
            "  Stored in directory: /root/.cache/pip/wheels/0c/02/16/868723676a8615ec2e15f46b7fb51f1dd2a910afdb64a61aa6\n",
            "Successfully built mimesis\n",
            "Installing collected packages: mimesis\n",
            "Successfully installed mimesis-4.1.3\n"
          ]
        }
      ]
    },
    {
      "cell_type": "code",
      "execution_count": 3,
      "metadata": {
        "id": "yGl_ho_VkGTG"
      },
      "outputs": [],
      "source": [
        "# издательства\n",
        "\n",
        "publishers = ['Гуманитарный издательский центр «Владос»',\n",
        "              'Издательская группа «АСТ»',\n",
        "              'Издательская группа «URSS.ru»',\n",
        "              'Издательская группа «ГРАНД-ФАИР»',\n",
        "              'Издательский Дом «Интеллект»',\n",
        "              'Издательский Дом «ИНФРА-М»',\n",
        "              'Издательский дом «ОНИКС»',\n",
        "              'Издательский дом «Питер»',\n",
        "              'Издательский торговый дом «КноРус»',\n",
        "              'Издательский центр «Академия»',\n",
        "              'Издательство «Айрис-пресс»',\n",
        "              'Издательство «Академический Проект»',\n",
        "              'Издательство «Весь Мир»',\n",
        "              'Издательство «Вече»',\n",
        "              'Издательство «Высшая школа»',\n",
        "              'Издательство «Дрофа»',\n",
        "              'Издательство «КолосС»',\n",
        "              'Издательство «Лань»',\n",
        "              'Издательство «Омега-Л»',\n",
        "              'Издательство «Просвещение»',\n",
        "              'Издательство «Проспект»',\n",
        "              'Издательство «Профессия»',\n",
        "              'Издательство «Флинта»',\n",
        "              'Издательство «Эксмо»',\n",
        "              'Торговая фирма «Академкнига» РАН',\n",
        "              'Торговое предприятие «Вузовская книга»',\n",
        "              'Библиотечное дело',\n",
        "              'Издательство РНБ',\n",
        "              'Издательство ФГУ «РГБ» «Пашков дом»',\n",
        "              'Редакционно-издательский отдел ГПНТБ СО РАН',\n",
        "              'Компьютерная литература. Информационные технологии',\n",
        "              'Издательство «БХВ-Петербург»',\n",
        "              'Издательство «ЭКОМ»',\n",
        "              'Правоведение',\n",
        "              'Издательский дом «ФБК-ПРЕСС»',\n",
        "              'Издательский дом Р. Асланова «Юридический центр»',\n",
        "              'Издательско-книготорговое объединение «ЮРАЙТ»',\n",
        "              'Издательство «Волтерс Клувер»',\n",
        "              'Издательство «СТАТУТ»',\n",
        "              'Издательство «Юрлитинформ»',\n",
        "              'Юридическое издательство «Норма»',\n",
        "              'Религия',\n",
        "              'Издательство Православного Свято - Тихоновского Гуманитарного Университета',\n",
        "              'Физико-математические науки',\n",
        "              'Издательство «ФИЗМАТЛИТ»',\n",
        "              'Художественная литература. Литературоведение',\n",
        "              'Издательство «Амфора»',\n",
        "              'Издательство «Новое литературное обозрение»',\n",
        "              'Издательская группа «Дело и сервис»',\n",
        "              'Издательство «Альпина Паблишер»',\n",
        "              'Издательство «Современная экономика и право»',\n",
        "              'Издательство «Финансы и статистика»',\n",
        "              'Издательство «Экономика»'\n",
        "              ]"
      ]
    },
    {
      "cell_type": "code",
      "source": [
        "# путь в файловой системе до картинки (вида root/aaa/aaa/a.png)\n",
        "# число различных путей n\n",
        "\n",
        "n = 300\n",
        "\n",
        "# sourses root/aaa/aaa/a.png\n",
        "import random\n",
        "\n",
        "sources = []\n",
        "root = \"root/\"\n",
        "extentions = [\".jpg\", \".png\"]\n",
        "def to_path(i):\n",
        "  current = i\n",
        "  path = \"\"\n",
        "  cnt = 0;\n",
        "  while current != 0:\n",
        "    path += chr(current % (ord('z') - ord('a') + 1) + ord('a'))\n",
        "    current //= (ord('z') - ord('a') + 1)\n",
        "    cnt += 1\n",
        "    if cnt == 1:\n",
        "      path += '/'\n",
        "    elif (cnt - 1) % 3  == 0:\n",
        "      path += '/'\n",
        "  while cnt < 7:\n",
        "    path += 'a'\n",
        "    cnt += 1\n",
        "    if (cnt - 1) % 3  == 0:\n",
        "      path += '/'\n",
        "  return path[::-1]\n",
        "\n",
        "for i in range(n):\n",
        "  sources += [root[:-1] + to_path(i) + extentions[random.randint(0, len(extentions) - 1)]]\n",
        "sources[:min(n, 10)]"
      ],
      "metadata": {
        "colab": {
          "base_uri": "https://localhost:8080/"
        },
        "id": "qmE01i_9m_di",
        "outputId": "f4bf328f-6cbf-48eb-9a4e-e7b3d6f4a3ab"
      },
      "execution_count": 2,
      "outputs": [
        {
          "output_type": "execute_result",
          "data": {
            "text/plain": [
              "['root/aaa/aaa/a.jpg',\n",
              " 'root/aaa/aaa/b.jpg',\n",
              " 'root/aaa/aaa/c.png',\n",
              " 'root/aaa/aaa/d.jpg',\n",
              " 'root/aaa/aaa/e.jpg',\n",
              " 'root/aaa/aaa/f.jpg',\n",
              " 'root/aaa/aaa/g.png',\n",
              " 'root/aaa/aaa/h.jpg',\n",
              " 'root/aaa/aaa/i.png',\n",
              " 'root/aaa/aaa/j.png']"
            ]
          },
          "metadata": {},
          "execution_count": 2
        }
      ]
    },
    {
      "cell_type": "code",
      "source": [
        "# жанры (удалить описание для жанра из схемы базы)\n",
        "\n",
        "genres = ['Бизнес-книги',\n",
        "          'Классическая литература',\n",
        "          'Зарубежная литература',\n",
        "          'Русская литература',\n",
        "          'Детские книги',\n",
        "          'Детективы',\n",
        "          'Фэнтези',\n",
        "          'Фантастика',\n",
        "          'Современная проза',\n",
        "          'Приключения',\n",
        "          'Ужасы, мистика',\n",
        "          'Публицистическая литература',\n",
        "          'Книги для подростков',\n",
        "          'Любовные романы',\n",
        "          'Боевики',\n",
        "          'Книги по психологии',\n",
        "          'Повести, рассказы',\n",
        "          'Поэзия и драматургия',\n",
        "          'Научная литература',\n",
        "          'Хобби и досуг',\n",
        "          'Графические романы',\n",
        "          'Культура и искусство',\n",
        "          'Юмор',\n",
        "          'Религия',\n",
        "          'Словари и справочники',\n",
        "          'Красота и здоровье',\n",
        "          'Иностранные языки',\n",
        "          'Компьютерная литература',\n",
        "          'Учебная литература',\n",
        "          'История',\n",
        "          'Реализм',\n",
        "          ]"
      ],
      "metadata": {
        "id": "UMQWwMIjpdhT"
      },
      "execution_count": 5,
      "outputs": []
    },
    {
      "cell_type": "code",
      "source": [
        "# названия книг\n",
        "\n",
        "titles = [  '«Властелин колец»',\n",
        "            '«Гордость и предубеждение»',\n",
        "            '«Тёмные начала»',\n",
        "            '«Автостопом по галактике»',\n",
        "            '«Гарри Поттер и Кубок огня»',\n",
        "            '«Убить пересмешника»',\n",
        "            '«Винни Пух»',\n",
        "            '«1984»',\n",
        "            '«Лев, колдунья и платяной шкаф»',\n",
        "            '«Джейн Эйр»',\n",
        "            '«Уловка-22»',\n",
        "            '«Грозовой перевал»',\n",
        "            '«Пение птиц»',\n",
        "            '«Ребекка»',\n",
        "            '«Над пропастью во ржи»',\n",
        "            '«Ветер в ивах»',\n",
        "            '«Большие надежды»',\n",
        "            '«Маленькие женщины»',\n",
        "            '«Мандолина капитана Корелли»',\n",
        "            '«Война и мир»',\n",
        "            '«Унесённые ветром»',\n",
        "            '«Гарри Поттер и философский камень»',\n",
        "            '«Гарри Поттер и Тайная комната»',\n",
        "            '«Гарри Поттер и узник Азкабана»',\n",
        "            '«Хоббит, или Туда и обратно»',\n",
        "            '«Тэсс из рода д’Эрбервиллей»',\n",
        "            '«Миддлмарч»',\n",
        "            '«Молитва об Оуэне Мини»',\n",
        "            '«Гроздья гнева»',\n",
        "            '«Алиса в Стране чудес»',\n",
        "            '«Дневник Трейси Бикер»',\n",
        "            '«Сто лет одиночества»',\n",
        "            '«Столпы Земли»',\n",
        "            '«Дэвид Копперфильд»',\n",
        "            '«Чарли и шоколадная фабрика»',\n",
        "            '«Остров сокровищ»',\n",
        "            '«Город как Элис»',\n",
        "            '«Доводы рассудка»',\n",
        "            '«Дюна»',\n",
        "            '«Эмма»',\n",
        "            '«Аня из Зелёных Мезонинов»',\n",
        "            '«Обитатели холмов»',\n",
        "            '«Великий Гэтсби»',\n",
        "            '«Граф Монте-Кристо»',\n",
        "            '«Возвращение в Брайдсхед»',\n",
        "            '«Скотный двор»',\n",
        "            '«Рождественская песнь»',\n",
        "            '«Вдали от обезумевшей толпы»',\n",
        "            '«Спокойной ночи, мистер Том»',\n",
        "            '«Семейная реликвия»',\n",
        "            '«Таинственный сад»',\n",
        "            '«О мышах и людях»',\n",
        "            '«Противостояние»',\n",
        "            '«Анна Каренина»',\n",
        "            '«Подходящий жених»',\n",
        "            '«БДВ, или Большой и добрый великан»',\n",
        "            '«Ласточки и амазонки»',\n",
        "            '«Чёрный красавчик»',\n",
        "            '«Артемис Фаул»',\n",
        "            '«Преступление и наказание»',\n",
        "            '«Крестики-нолики»',\n",
        "            '«Мемуары гейши»',\n",
        "            '«Повесть о двух городах»',\n",
        "            '«Поющие в терновнике»',\n",
        "            '«Мор, ученик Смерти»',\n",
        "            '«Далёкое волшебное дерево»',\n",
        "            '«Волхв»',\n",
        "            '«Благие знамения»',\n",
        "            '«Стража! Стража!»',\n",
        "            '«Повелитель мух»',\n",
        "            '«Парфюмер»',\n",
        "            '«Филантропы в рваных штанах»',\n",
        "            '«Ночная стража»',\n",
        "            '«Матильда»',\n",
        "            '«Дневник Бриджит Джонс»',\n",
        "            '«Тайная история»',\n",
        "            '«Женщина в белом»',\n",
        "            '«Улисс»',\n",
        "            '«Холодный дом»',\n",
        "            '«Двойняшки»',\n",
        "            '«Семейство Твит»',\n",
        "            '«Я захватываю замок»',\n",
        "            '«Ямы»',\n",
        "            '«Горменгаст»',\n",
        "            '«Бог мелочей»',\n",
        "            '«Вики-Ангел»',\n",
        "            '«О дивный новый мир»',\n",
        "            '«Неуютная ферма»',\n",
        "            '«Чародей»',\n",
        "            '«В дороге»',\n",
        "            '«Крёстный отец»',\n",
        "            '«Клан пещерного медведя»',\n",
        "            '«Цвет волшебства»',\n",
        "            '«Алхимик»',\n",
        "            '«Кэтрин»',\n",
        "            '«Каин и Авель»',\n",
        "            '«Любовь во время холеры»',\n",
        "            '«Девчонки в поисках любви»',\n",
        "            '«Дневники принцессы»',\n",
        "            '«Дети полуночи»',\n",
        "            '«Трое в лодке, не считая собаки»',\n",
        "            '«Мелкие боги»',\n",
        "            '«Пляж»',\n",
        "            '«Дракула»',\n",
        "            '«Белый пик»',\n",
        "            '«Посмертные записки Пиквикского клуба»',\n",
        "            '«Громобой»',\n",
        "            '«Осиная фабрика»',\n",
        "            '«День Шакала»',\n",
        "            '«Разрисованная мама»',\n",
        "            '«Джуд Незаметный»',\n",
        "            '«Тайный дневник Адриана Моула»',\n",
        "            '«Жестокое море»',\n",
        "            '«Отверженные»',\n",
        "            '«Мэр Кэстербриджа»',\n",
        "            '«Рискованные игры»',\n",
        "            '«Плохие девчонки»',\n",
        "            '«Портрет Дориана Грея»',\n",
        "            '«Сёгун»',\n",
        "            '«День триффидов»',\n",
        "            '«Лола Роза»',\n",
        "            '«Ярмарка тщеславия»',\n",
        "            '«Дом из листьев»',\n",
        "            '«Сага о Форсайтах»',\n",
        "            '«Библия ядовитого леса»',\n",
        "            '«Мрачный Жнец»',\n",
        "            '«Ангус, ремни и конкретные обжимашки»',\n",
        "            '«Собака Баскервилей»',\n",
        "]\n",
        "\n",
        "titles[:5]"
      ],
      "metadata": {
        "colab": {
          "base_uri": "https://localhost:8080/"
        },
        "id": "KN0n5o4xUq7f",
        "outputId": "f12c9354-6dae-4632-d9a2-6a8446fd19dd"
      },
      "execution_count": 10,
      "outputs": [
        {
          "output_type": "execute_result",
          "data": {
            "text/plain": [
              "['«Властелин колец»',\n",
              " '«Гордость и предубеждение»',\n",
              " '«Тёмные начала»',\n",
              " '«Автостопом по галактике»',\n",
              " '«Гарри Поттер и Кубок огня»']"
            ]
          },
          "metadata": {},
          "execution_count": 10
        }
      ]
    },
    {
      "cell_type": "code",
      "source": [
        "# книги\n",
        "# рандомное количество рандомных авторов\n",
        "\n",
        "n = 100\n",
        "min_sentences = 1\n",
        "max_sentences = 3\n",
        "start_date = 1500\n",
        "end_date = 2010\n",
        "\n",
        "from mimesis import locales, enums\n",
        "from mimesis import Generic\n",
        "import random\n",
        "\n",
        "class Book:\n",
        "    def __init__(self):\n",
        "        generic = Generic('ru')\n",
        "        self.title = random.choice(titles)\n",
        "        self.description = generic.text.text(quantity=random.randint(min_sentences, max_sentences))\n",
        "        self.release_date = generic.datetime.date(start=start_date, end=end_date)\n",
        "        self.photo = random.choice(sources)\n",
        "    def __str__(self):\n",
        "        return ' '.join([self.title, self.description, str(self.release_date), self.photo])\n",
        "\n",
        "books = [Book() for _ in range(n)]\n",
        "print(books[0])"
      ],
      "metadata": {
        "id": "FZjrQYFzA7nZ",
        "colab": {
          "base_uri": "https://localhost:8080/"
        },
        "outputId": "c1dfddeb-549b-47d6-cda3-9cc123acd850"
      },
      "execution_count": 11,
      "outputs": [
        {
          "output_type": "stream",
          "name": "stdout",
          "text": [
            "«Ярмарка тщеславия» Парадигма программирования — это совокупность идей и понятий, определяющих стиль написания компьютерных программ. Полнотиповое программирование может поддерживаться на уровне системы типов языка или вводиться программистом идиоматически. В наш век информации слишком много, чтобы понять кто прав, а кто лукавит. 1880-03-10 root/aaa/aah/k.jpg\n"
          ]
        }
      ]
    },
    {
      "cell_type": "code",
      "source": [
        "# авторы\n",
        "\n",
        "n = 100\n",
        "min_sentences = 1\n",
        "max_sentences = 3\n",
        "start_date = 1500\n",
        "end_date = 2010\n",
        "\n",
        "from mimesis import locales, enums\n",
        "from mimesis import Generic\n",
        "import random\n",
        "\n",
        "class Author:\n",
        "    def __init__(self):\n",
        "        generic = Generic('ru')\n",
        "        sex = random.choice([enums.Gender.MALE, enums.Gender.FEMALE])\n",
        "        self.first_name = generic.person.name(gender=sex)\n",
        "        self.last_name = generic.person.last_name(gender=sex)\n",
        "        self.photo = random.choice(sources) \n",
        "        self.description = generic.text.text(quantity=random.randint(min_sentences, max_sentences))\n",
        "        self.year_of_birth = generic.datetime.date(start=start_date, end=end_date)\n",
        "        self.year_of_death = random.choice([-1, generic.datetime.date(start=int(self.year_of_birth.year) + 10, end=max(end_date + 10, int(self.year_of_birth.year) + 90))])\n",
        "    def __str__(self):\n",
        "        return ' '.join([self.first_name, self.last_name, self.photo, self.description, str(self.year_of_birth), str(self.year_of_death)])\n",
        "\n",
        "authors = [Author() for _ in range(n)]\n",
        "print(authors[0])"
      ],
      "metadata": {
        "id": "wGLKXODgA76I",
        "colab": {
          "base_uri": "https://localhost:8080/"
        },
        "outputId": "983d0c27-403d-4239-f47d-4fd300cad721"
      },
      "execution_count": 6,
      "outputs": [
        {
          "output_type": "stream",
          "name": "stdout",
          "text": [
            "Кузей Шопенков root/aaa/aae/q.jpg Полнотиповое программирование — стиль программирования, отличающийся обширным использованием информации о типах с тем, чтобы механизм проверки согласования типов обеспечил раннее выявление максимального количества всевозможных разновидностей багов. Python — высокоуровневый язык программирования общего назначения, ориентированный на повышение производительности разработчика и читаемости кода. 1753-03-24 -1\n"
          ]
        }
      ]
    },
    {
      "cell_type": "code",
      "source": [
        "# цитаты\n",
        "# рандомный book_id, рандомный user_id\n",
        "# минимальное число предложений: min_sentences \n",
        "# максимальное чисто предложений: max_sentences \n",
        "# число различных цитат: n\n",
        "\n",
        "n = 100\n",
        "min_sentences = 3\n",
        "max_sentences = 15\n",
        "\n",
        "\n",
        "import random\n",
        "from mimesis import locales\n",
        "from mimesis import Text\n",
        "\n",
        "text = Text('ru')\n",
        "\n",
        "quotes = []\n",
        "for i in range(n):\n",
        "    quotes.append(text.quote())\n",
        "quotes[:min(n, 1)]"
      ],
      "metadata": {
        "colab": {
          "base_uri": "https://localhost:8080/"
        },
        "id": "5ZN_RVGPBDVr",
        "outputId": "12c8e628-83a2-4330-a1b4-9b390ff7dc6f"
      },
      "execution_count": 22,
      "outputs": [
        {
          "output_type": "execute_result",
          "data": {
            "text/plain": [
              "['А вот и Джонни!']"
            ]
          },
          "metadata": {},
          "execution_count": 22
        }
      ]
    },
    {
      "cell_type": "code",
      "source": [
        "# истории (аналогично цитатам)\n",
        "\n",
        "n = 100\n",
        "min_sentences = 3\n",
        "max_sentences = 15\n",
        "\n",
        "\n",
        "import random\n",
        "from mimesis import locales\n",
        "from mimesis import Text\n",
        "\n",
        "text = Text('ru')\n",
        "\n",
        "stories = [text.text(quantity=random.randint(min_sentences, max_sentences)) for _ in range(n)]\n",
        "stories[:min(n, 1)]"
      ],
      "metadata": {
        "id": "sXbIpr4bBE4X",
        "colab": {
          "base_uri": "https://localhost:8080/"
        },
        "outputId": "d5824c6e-6201-4cb5-eb89-d07688a32ddd"
      },
      "execution_count": 9,
      "outputs": [
        {
          "output_type": "execute_result",
          "data": {
            "text/plain": [
              "['Erlang — функциональный язык программирования с сильной динамической типизацией, предназначенный для создания распределённых вычислительных систем. Синтаксис ядра Python минималистичен. Python — высокоуровневый язык программирования общего назначения, ориентированный на повышение производительности разработчика и читаемости кода. В то же время стандартная библиотека включает большой объём полезных функций. Разработан и поддерживается компанией Ericsson. Полнотиповое программирование — стиль программирования, отличающийся обширным использованием информации о типах с тем, чтобы механизм проверки согласования типов обеспечил раннее выявление максимального количества всевозможных разновидностей багов. Разработан и поддерживается компанией Ericsson. Haskell — стандартизированный чистый функциональный язык программирования общего назначения. Haskell — стандартизированный чистый функциональный язык программирования общего назначения. Erlang был целенаправленно разработан для применения в распределённых, отказоустойчивых, параллельных системах реального времени, для которых кроме средств самого языка имеется стандартная библиотека модулей и библиотека шаблонных решений (так называемых поведений) — фреймворк OTP. Java — строго типизированный объектно-ориентированный язык программирования, разработанный компанией Sun Microsystems. Популярность Erlang начала расти в связи с расширением его области применения (телекоммуникационные системы) на высоконагруженные параллельные распределённые системы, обслуживающие миллионы пользователей WWW, такие как чаты, системы управления содержимым, веб-серверы и распределённые, требующие масштабирования базы данных. Erlang был целенаправленно разработан для применения в распределённых, отказоустойчивых, параллельных системах реального времени, для которых кроме средств самого языка имеется стандартная библиотека модулей и библиотека шаблонных решений (так называемых поведений) — фреймворк OTP. Erlang был целенаправленно разработан для применения в распределённых, отказоустойчивых, параллельных системах реального времени, для которых кроме средств самого языка имеется стандартная библиотека модулей и библиотека шаблонных решений (так называемых поведений) — фреймворк OTP. Например, определение функции, которое использует сопоставление с образцом, для выбора одного из вариантов вычисления или извлечения элемента данных из составной структуры, напоминает уравнение.']"
            ]
          },
          "metadata": {},
          "execution_count": 9
        }
      ]
    },
    {
      "cell_type": "code",
      "source": [
        "# отзывы (аналогично)\n",
        "# рандомная оценка\n",
        "\n",
        "n = 100\n",
        "min_sentences = 3\n",
        "max_sentences = 15\n",
        "\n",
        "import random\n",
        "from mimesis import locales\n",
        "from mimesis import Text\n",
        "\n",
        "text = Text('ru')\n",
        "\n",
        "reviews = [text.text(quantity=random.randint(min_sentences, max_sentences)) for _ in range(n)]\n",
        "reviews[:min(n, 1)]"
      ],
      "metadata": {
        "id": "BuxjArbVBIjt",
        "colab": {
          "base_uri": "https://localhost:8080/"
        },
        "outputId": "de5af3bf-23cd-460e-9985-7ab5e2e3b5db"
      },
      "execution_count": 10,
      "outputs": [
        {
          "output_type": "execute_result",
          "data": {
            "text/plain": [
              "['Свой синтаксис и некоторые концепции Erlang унаследовал от языка логического программирования Пролог. Haskell — стандартизированный чистый функциональный язык программирования общего назначения. Erlang был целенаправленно разработан для применения в распределённых, отказоустойчивых, параллельных системах реального времени, для которых кроме средств самого языка имеется стандартная библиотека модулей и библиотека шаблонных решений (так называемых поведений) — фреймворк OTP. Приложения Java обычно транслируются в специальный байт-код, поэтому они могут работать на любой компьютерной архитектуре, с помощью виртуальной Java-машины. Отличительная черта языка — серьёзное отношение к типизации. Синтаксис ядра Python минималистичен. Java — строго типизированный объектно-ориентированный язык программирования, разработанный компанией Sun Microsystems. Python поддерживает несколько парадигм программирования, в том числе структурное, объектно-ориентированное, функциональное, императивное и аспектно-ориентированное. Отличительная черта языка — серьёзное отношение к типизации. REPL — форма организации простой интерактивной среды программирования в рамках средств интерфейса командной строки. Java — строго типизированный объектно-ориентированный язык программирования, разработанный компанией Sun Microsystems. Haskell — стандартизированный чистый функциональный язык программирования общего назначения. REPL — форма организации простой интерактивной среды программирования в рамках средств интерфейса командной строки. Парадигма программирования — это совокупность идей и понятий, определяющих стиль написания компьютерных программ. В наш век информации слишком много, чтобы понять кто прав, а кто лукавит.']"
            ]
          },
          "metadata": {},
          "execution_count": 10
        }
      ]
    },
    {
      "cell_type": "code",
      "source": [
        "# подборки\n",
        "\n",
        "n = 100\n",
        "min_sentences = 0\n",
        "max_sentences = 3\n",
        "\n",
        "import random\n",
        "from mimesis import locales\n",
        "from mimesis import Text\n",
        "\n",
        "class Selection:\n",
        "    def __init__(self):\n",
        "        generic = Generic('ru')\n",
        "        self.selection_title = generic.text.title()\n",
        "        self.description = generic.text.text(quantity=random.randint(min_sentences, max_sentences))\n",
        "    def __str__(self):\n",
        "        # вывод без описания, чисто потестить, но оно есть\n",
        "        return ' '.join([self.selection_title, '|', self.description])\n",
        "\n",
        "selections = [Selection() for _ in range(n)]\n",
        "print(selections[0])"
      ],
      "metadata": {
        "id": "MiLFRv70BKVU",
        "colab": {
          "base_uri": "https://localhost:8080/"
        },
        "outputId": "e79ed292-ce5e-4bc0-e945-5254d539fabc"
      },
      "execution_count": 29,
      "outputs": [
        {
          "output_type": "stream",
          "name": "stdout",
          "text": [
            "Например, определение функции, которое использует сопоставление с образцом, для выбора одного из вариантов вычисления или извлечения элемента данных из составной структуры, напоминает уравнение. | Отличительная черта языка — серьёзное отношение к типизации. Парадигма программирования — это совокупность идей и понятий, определяющих стиль написания компьютерных программ. Парадигма программирования — это совокупность идей и понятий, определяющих стиль написания компьютерных программ.\n"
          ]
        }
      ]
    },
    {
      "cell_type": "code",
      "source": [
        "# пользователи\n",
        "\n",
        "\n",
        "n = 100\n",
        "min_sentences = 0\n",
        "max_sentences = 3\n",
        "\n",
        "from mimesis import locales, enums\n",
        "from mimesis import Generic\n",
        "import random\n",
        "import hashlib\n",
        "\n",
        "class User:\n",
        "    def __init__(self):\n",
        "        generic = Generic('ru')\n",
        "        self.sex = random.choice([enums.Gender.MALE, enums.Gender.FEMALE])\n",
        "        self.name = generic.person.name(gender=self.sex)\n",
        "        self.last_name = generic.person.last_name(gender=self.sex)\n",
        "        self.nick = generic.person.username()\n",
        "        self.description = generic.text.text(quantity=random.randint(min_sentences, max_sentences))\n",
        "        self.photo = random.choice(sources) \n",
        "        self.password = hashlib.md5(generic.person.password().encode('utf-8')).hexdigest()\n",
        "        self.sex = 'male' if self.sex == enums.Gender.MALE else 'female'\n",
        "    def __str__(self):\n",
        "        # вывод без описания, чисто потестить, но оно есть\n",
        "        return ' '.join([self.sex, self.name, self.last_name, self.nick, self.photo, self.password])\n",
        "        \n",
        "\n",
        "users = [User() for _ in range(n)]\n",
        "print(users[0])"
      ],
      "metadata": {
        "id": "CJYLoSgmBMxb",
        "colab": {
          "base_uri": "https://localhost:8080/"
        },
        "outputId": "5de2a74a-4605-465d-eea7-8e66b6b5c2a9"
      },
      "execution_count": 13,
      "outputs": [
        {
          "output_type": "stream",
          "name": "stdout",
          "text": [
            "male Руди Клавдеев amalie-1939 root/aaa/aae/l.jpg b11bd051e2e3056949f9ed25b2c96e3f\n"
          ]
        }
      ]
    },
    {
      "cell_type": "code",
      "source": [
        "# достижения\n",
        "\n",
        "import random\n",
        "\n",
        "class Reward:\n",
        "    def __init__(this, name, description):\n",
        "        this.name = name\n",
        "        this.source = random.choice(sources)\n",
        "        this.description = description\n",
        "    def __str__(this):\n",
        "        return ' '.join([this.name, this.source, this.description])\n",
        "\n",
        "rewards = [Reward(\"Книгочей\", \"1500+ прочитанных книг\"),\n",
        "           Reward(\"Критик\", \"30+ рецензий с оценкой 50+\"),\n",
        "           Reward(\"Цитатчик\", \"1000+ цитат\"),\n",
        "           Reward(\"Комментатор\", \"3000+ комментариев\"),\n",
        "           Reward(\"Большой друг\", \"250+ взаимных друзей\"),\n",
        "           Reward(\"Рассказчик\", \"5 историй с оценкой 50+\"),\n",
        "           Reward(\"Старожил\", \"1000 дней на сайте, 100+ прочитанных книг\"),\n",
        "           ]\n",
        "print(rewards[2])"
      ],
      "metadata": {
        "id": "spZHYai8BOTZ",
        "colab": {
          "base_uri": "https://localhost:8080/"
        },
        "outputId": "f618621a-0cbb-4c0c-c39f-fdc35cfc6f19"
      },
      "execution_count": 14,
      "outputs": [
        {
          "output_type": "stream",
          "name": "stdout",
          "text": [
            "Цитатчик root/aaa/aaf/s.png 1000+ цитат\n"
          ]
        }
      ]
    },
    {
      "cell_type": "code",
      "source": [
        "# оценки (рандомная оценка рандомному объекту)\n",
        "\n",
        "type_of_marked_object = ['review',\n",
        "                         'story',\n",
        "                         'quote']\n",
        "\n",
        "type_of_marked_object"
      ],
      "metadata": {
        "id": "4VAAS_lSBVdz",
        "colab": {
          "base_uri": "https://localhost:8080/"
        },
        "outputId": "ec1465c9-294e-45be-ad0f-9447e93cd95e"
      },
      "execution_count": 15,
      "outputs": [
        {
          "output_type": "execute_result",
          "data": {
            "text/plain": [
              "['review', 'story', 'quote']"
            ]
          },
          "metadata": {},
          "execution_count": 15
        }
      ]
    },
    {
      "cell_type": "code",
      "source": [
        "# обсуждения\n",
        "\n",
        "n = 100\n",
        "min_sentences = 0\n",
        "max_sentences = 3\n",
        "\n",
        "import random\n",
        "from mimesis import locales\n",
        "from mimesis import Text\n",
        "\n",
        "class Dialog:\n",
        "    def __init__(self):\n",
        "        generic = Generic('ru')\n",
        "        self.dialog_title = generic.text.title()\n",
        "        self.description = generic.text.text(quantity=random.randint(min_sentences, max_sentences))\n",
        "    def __str__(self):\n",
        "        # вывод без описания, чисто потестить, но оно есть\n",
        "        return ' '.join([self.dialog_title, '|', self.description])\n",
        "\n",
        "dialogs = [Dialog() for _ in range(n)]\n",
        "print(dialogs[0])"
      ],
      "metadata": {
        "id": "N1PUdaSEBYe6",
        "colab": {
          "base_uri": "https://localhost:8080/"
        },
        "outputId": "a1ee2749-243f-45e7-e06c-35c66abeaee1"
      },
      "execution_count": 28,
      "outputs": [
        {
          "output_type": "stream",
          "name": "stdout",
          "text": [
            "Java — строго типизированный объектно-ориентированный язык программирования, разработанный компанией Sun Microsystems. | Полнотиповое программирование может поддерживаться на уровне системы типов языка или вводиться программистом идиоматически. Это способ концептуализации, определяющий организацию вычислений и структурирование работы, выполняемой компьютером. Является одним из самых распространённых языков программирования с поддержкой отложенных вычислений.\n"
          ]
        }
      ]
    },
    {
      "cell_type": "code",
      "source": [
        "# статьи (аналогично историям)\n",
        "\n",
        "n = 100\n",
        "min_sentences = 3\n",
        "max_sentences = 15\n",
        "\n",
        "\n",
        "import random\n",
        "from mimesis import locales\n",
        "from mimesis import Text\n",
        "\n",
        "text = Text('ru')\n",
        "\n",
        "articles = [text.text(quantity=random.randint(min_sentences, max_sentences)) for _ in range(n)]\n",
        "articles[:min(n, 1)]"
      ],
      "metadata": {
        "id": "IqzoQXGoBcH9",
        "colab": {
          "base_uri": "https://localhost:8080/"
        },
        "outputId": "29e7555e-845e-474f-c81a-4b61cc94ec39"
      },
      "execution_count": 16,
      "outputs": [
        {
          "output_type": "execute_result",
          "data": {
            "text/plain": [
              "['Erlang применяется в нескольких NoSQL-базах данных высокой доступности. Python — высокоуровневый язык программирования общего назначения, ориентированный на повышение производительности разработчика и читаемости кода. Популярность Erlang начала расти в связи с расширением его области применения (телекоммуникационные системы) на высоконагруженные параллельные распределённые системы, обслуживающие миллионы пользователей WWW, такие как чаты, системы управления содержимым, веб-серверы и распределённые, требующие масштабирования базы данных.']"
            ]
          },
          "metadata": {},
          "execution_count": 16
        }
      ]
    },
    {
      "cell_type": "code",
      "source": [
        "# тип отношения пользователь - книга\n",
        "\n",
        "user_book_types = [\"Прочитал(а)\",\n",
        "                   \"Хочет прочитать\",\n",
        "                   \"Читает сейчас\",\n",
        "                   \"Избранное\",\n",
        "                   \"Перечитывает\",\n",
        "                   \"Не дочитал(а)\"]"
      ],
      "metadata": {
        "id": "DedqYzP7BdOF"
      },
      "execution_count": null,
      "outputs": []
    },
    {
      "cell_type": "code",
      "source": [],
      "metadata": {
        "id": "F-F4ts8mBehF"
      },
      "execution_count": null,
      "outputs": []
    }
  ]
}